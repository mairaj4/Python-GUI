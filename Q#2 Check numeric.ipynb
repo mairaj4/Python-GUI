{
 "cells": [
  {
   "cell_type": "code",
   "execution_count": 101,
   "id": "9aa607d6",
   "metadata": {},
   "outputs": [
    {
     "name": "stdout",
     "output_type": "stream",
     "text": [
      "Numeric value in the List!\n"
     ]
    }
   ],
   "source": [
    " my_list = [ 'Hello', 'World', 13, 15.5,  True] \n",
    "\n",
    "types = { type(item) for item in my_list } \n",
    "if (int in types or float in types): \n",
    "    print(\"Numeric value in the List!\") \n",
    "else:\n",
    "    print (\"Numeric value not in the list\")\n"
   ]
  },
  {
   "cell_type": "code",
   "execution_count": null,
   "id": "1f28d666",
   "metadata": {},
   "outputs": [],
   "source": []
  }
 ],
 "metadata": {
  "kernelspec": {
   "display_name": "Python 3",
   "language": "python",
   "name": "python3"
  },
  "language_info": {
   "codemirror_mode": {
    "name": "ipython",
    "version": 3
   },
   "file_extension": ".py",
   "mimetype": "text/x-python",
   "name": "python",
   "nbconvert_exporter": "python",
   "pygments_lexer": "ipython3",
   "version": "3.8.8"
  }
 },
 "nbformat": 4,
 "nbformat_minor": 5
}
