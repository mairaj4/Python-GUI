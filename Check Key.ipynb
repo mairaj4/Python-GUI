{
 "cells": [
  {
   "cell_type": "code",
   "execution_count": 90,
   "id": "1749962e",
   "metadata": {},
   "outputs": [
    {
     "name": "stdout",
     "output_type": "stream",
     "text": [
      "The Key is present in a dictionary\n",
      "The Key is not present in a dictionary\n"
     ]
    }
   ],
   "source": [
    "d1 = {1: 10, 2: 20, 3: 30, 4: 40, 5: 50, 6: 60}\n",
    "def key_in_d1(x):\n",
    "    if x in d1:\n",
    "        print('The Key is present in a dictionary')\n",
    "    else:\n",
    "        print('The Key is not present in a dictionary')\n",
    "key_in_d1(3)\n",
    "key_in_d1(11)"
   ]
  },
  {
   "cell_type": "code",
   "execution_count": null,
   "id": "3b5446c2",
   "metadata": {},
   "outputs": [],
   "source": []
  }
 ],
 "metadata": {
  "kernelspec": {
   "display_name": "Python 3",
   "language": "python",
   "name": "python3"
  },
  "language_info": {
   "codemirror_mode": {
    "name": "ipython",
    "version": 3
   },
   "file_extension": ".py",
   "mimetype": "text/x-python",
   "name": "python",
   "nbconvert_exporter": "python",
   "pygments_lexer": "ipython3",
   "version": "3.8.8"
  }
 },
 "nbformat": 4,
 "nbformat_minor": 5
}
