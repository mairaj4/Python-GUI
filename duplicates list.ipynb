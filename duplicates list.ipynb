{
 "cells": [
  {
   "cell_type": "code",
   "execution_count": 81,
   "id": "3346b16b",
   "metadata": {},
   "outputs": [
    {
     "name": "stdout",
     "output_type": "stream",
     "text": [
      "[6, 15, 20, 30, 40, 50, 80]\n"
     ]
    }
   ],
   "source": [
    "list_one = [80,20,30,20,6,30,40,50,15,11,20,40,50,15,6,7,80] \n",
    "list_one.sort()  \n",
    "\n",
    "list_two = sorted(set(list_one)) \n",
    "duplicate_list =[] \n",
    "for i in range(len(list_two)): \n",
    "    if (list_one.count(list_two[i]) > 1 ): \n",
    "            duplicate_list.append(list_two[i]) \n",
    "print(duplicate_list) "
   ]
  },
  {
   "cell_type": "code",
   "execution_count": null,
   "id": "607956c9",
   "metadata": {},
   "outputs": [],
   "source": []
  }
 ],
 "metadata": {
  "kernelspec": {
   "display_name": "Python 3",
   "language": "python",
   "name": "python3"
  },
  "language_info": {
   "codemirror_mode": {
    "name": "ipython",
    "version": 3
   },
   "file_extension": ".py",
   "mimetype": "text/x-python",
   "name": "python",
   "nbconvert_exporter": "python",
   "pygments_lexer": "ipython3",
   "version": "3.8.8"
  }
 },
 "nbformat": 4,
 "nbformat_minor": 5
}
