{
 "cells": [
  {
   "cell_type": "code",
   "execution_count": 15,
   "id": "6080c2f2",
   "metadata": {},
   "outputs": [
    {
     "name": "stdout",
     "output_type": "stream",
     "text": [
      "Sum of all items in Dicionary are! 800\n"
     ]
    }
   ],
   "source": [
    "d={'Item1':100,'Item2':500, 'Item3':200}\n",
    "total = 0\n",
    "for i in d:\n",
    "     total = total + d[i]\n",
    "print(\"Sum of all items in Dicionary are!\", total)"
   ]
  },
  {
   "cell_type": "code",
   "execution_count": null,
   "id": "f05173f7",
   "metadata": {},
   "outputs": [],
   "source": []
  },
  {
   "cell_type": "code",
   "execution_count": null,
   "id": "9f9870c1",
   "metadata": {},
   "outputs": [],
   "source": []
  }
 ],
 "metadata": {
  "kernelspec": {
   "display_name": "Python 3",
   "language": "python",
   "name": "python3"
  },
  "language_info": {
   "codemirror_mode": {
    "name": "ipython",
    "version": 3
   },
   "file_extension": ".py",
   "mimetype": "text/x-python",
   "name": "python",
   "nbconvert_exporter": "python",
   "pygments_lexer": "ipython3",
   "version": "3.8.8"
  }
 },
 "nbformat": 4,
 "nbformat_minor": 5
}
